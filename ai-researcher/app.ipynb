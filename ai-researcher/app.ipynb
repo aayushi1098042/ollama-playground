{
 "cells": [
  {
   "cell_type": "code",
   "execution_count": 1,
   "metadata": {},
   "outputs": [
    {
     "name": "stdout",
     "output_type": "stream",
     "text": [
      "Requirement already satisfied: streamlit in d:\\project\\.venv\\lib\\site-packages (from -r requirements.txt (line 1)) (1.42.0)\n",
      "Requirement already satisfied: langchain_core in d:\\project\\.venv\\lib\\site-packages (from -r requirements.txt (line 2)) (0.3.33)\n",
      "Requirement already satisfied: langchain_community in d:\\project\\.venv\\lib\\site-packages (from -r requirements.txt (line 3)) (0.3.16)\n",
      "Requirement already satisfied: langchain_ollama in d:\\project\\.venv\\lib\\site-packages (from -r requirements.txt (line 4)) (0.2.3)\n",
      "Requirement already satisfied: tavily-python in d:\\project\\.venv\\lib\\site-packages (from -r requirements.txt (line 5)) (0.5.0)\n",
      "Requirement already satisfied: langgraph in d:\\project\\.venv\\lib\\site-packages (from -r requirements.txt (line 6)) (0.2.69)\n",
      "Requirement already satisfied: typing_extensions in d:\\project\\.venv\\lib\\site-packages (from -r requirements.txt (line 7)) (4.12.2)\n",
      "Requirement already satisfied: altair<6,>=4.0 in d:\\project\\.venv\\lib\\site-packages (from streamlit->-r requirements.txt (line 1)) (5.5.0)\n",
      "Requirement already satisfied: blinker<2,>=1.0.0 in d:\\project\\.venv\\lib\\site-packages (from streamlit->-r requirements.txt (line 1)) (1.9.0)\n",
      "Requirement already satisfied: cachetools<6,>=4.0 in d:\\project\\.venv\\lib\\site-packages (from streamlit->-r requirements.txt (line 1)) (5.5.1)\n",
      "Requirement already satisfied: click<9,>=7.0 in d:\\project\\.venv\\lib\\site-packages (from streamlit->-r requirements.txt (line 1)) (8.1.8)\n",
      "Requirement already satisfied: numpy<3,>=1.23 in d:\\project\\.venv\\lib\\site-packages (from streamlit->-r requirements.txt (line 1)) (2.2.2)\n",
      "Requirement already satisfied: packaging<25,>=20 in d:\\project\\.venv\\lib\\site-packages (from streamlit->-r requirements.txt (line 1)) (24.2)\n",
      "Requirement already satisfied: pandas<3,>=1.4.0 in d:\\project\\.venv\\lib\\site-packages (from streamlit->-r requirements.txt (line 1)) (2.2.3)\n",
      "Requirement already satisfied: pillow<12,>=7.1.0 in d:\\project\\.venv\\lib\\site-packages (from streamlit->-r requirements.txt (line 1)) (11.1.0)\n",
      "Requirement already satisfied: protobuf<6,>=3.20 in d:\\project\\.venv\\lib\\site-packages (from streamlit->-r requirements.txt (line 1)) (5.29.3)\n",
      "Requirement already satisfied: pyarrow>=7.0 in d:\\project\\.venv\\lib\\site-packages (from streamlit->-r requirements.txt (line 1)) (19.0.0)\n",
      "Requirement already satisfied: requests<3,>=2.27 in d:\\project\\.venv\\lib\\site-packages (from streamlit->-r requirements.txt (line 1)) (2.32.3)\n",
      "Requirement already satisfied: rich<14,>=10.14.0 in d:\\project\\.venv\\lib\\site-packages (from streamlit->-r requirements.txt (line 1)) (13.9.4)\n",
      "Requirement already satisfied: tenacity<10,>=8.1.0 in d:\\project\\.venv\\lib\\site-packages (from streamlit->-r requirements.txt (line 1)) (9.0.0)\n",
      "Requirement already satisfied: toml<2,>=0.10.1 in d:\\project\\.venv\\lib\\site-packages (from streamlit->-r requirements.txt (line 1)) (0.10.2)\n",
      "Requirement already satisfied: watchdog<7,>=2.1.5 in d:\\project\\.venv\\lib\\site-packages (from streamlit->-r requirements.txt (line 1)) (6.0.0)\n",
      "Requirement already satisfied: gitpython!=3.1.19,<4,>=3.0.7 in d:\\project\\.venv\\lib\\site-packages (from streamlit->-r requirements.txt (line 1)) (3.1.44)\n",
      "Requirement already satisfied: pydeck<1,>=0.8.0b4 in d:\\project\\.venv\\lib\\site-packages (from streamlit->-r requirements.txt (line 1)) (0.9.1)\n",
      "Requirement already satisfied: tornado<7,>=6.0.3 in d:\\project\\.venv\\lib\\site-packages (from streamlit->-r requirements.txt (line 1)) (6.4.2)\n",
      "Requirement already satisfied: PyYAML>=5.3 in d:\\project\\.venv\\lib\\site-packages (from langchain_core->-r requirements.txt (line 2)) (6.0.2)\n",
      "Requirement already satisfied: jsonpatch<2.0,>=1.33 in d:\\project\\.venv\\lib\\site-packages (from langchain_core->-r requirements.txt (line 2)) (1.33)\n",
      "Requirement already satisfied: langsmith<0.4,>=0.1.125 in d:\\project\\.venv\\lib\\site-packages (from langchain_core->-r requirements.txt (line 2)) (0.3.6)\n",
      "Requirement already satisfied: pydantic<3.0.0,>=2.7.4 in d:\\project\\.venv\\lib\\site-packages (from langchain_core->-r requirements.txt (line 2)) (2.10.6)\n",
      "Requirement already satisfied: SQLAlchemy<3,>=1.4 in d:\\project\\.venv\\lib\\site-packages (from langchain_community->-r requirements.txt (line 3)) (2.0.37)\n",
      "Requirement already satisfied: aiohttp<4.0.0,>=3.8.3 in d:\\project\\.venv\\lib\\site-packages (from langchain_community->-r requirements.txt (line 3)) (3.11.12)\n",
      "Requirement already satisfied: dataclasses-json<0.7,>=0.5.7 in d:\\project\\.venv\\lib\\site-packages (from langchain_community->-r requirements.txt (line 3)) (0.6.7)\n",
      "Requirement already satisfied: httpx-sse<0.5.0,>=0.4.0 in d:\\project\\.venv\\lib\\site-packages (from langchain_community->-r requirements.txt (line 3)) (0.4.0)\n",
      "Requirement already satisfied: langchain<0.4.0,>=0.3.16 in d:\\project\\.venv\\lib\\site-packages (from langchain_community->-r requirements.txt (line 3)) (0.3.17)\n",
      "Requirement already satisfied: pydantic-settings<3.0.0,>=2.4.0 in d:\\project\\.venv\\lib\\site-packages (from langchain_community->-r requirements.txt (line 3)) (2.7.1)\n",
      "Requirement already satisfied: ollama<1,>=0.4.4 in d:\\project\\.venv\\lib\\site-packages (from langchain_ollama->-r requirements.txt (line 4)) (0.4.7)\n",
      "Requirement already satisfied: tiktoken>=0.5.1 in d:\\project\\.venv\\lib\\site-packages (from tavily-python->-r requirements.txt (line 5)) (0.8.0)\n",
      "Requirement already satisfied: httpx in d:\\project\\.venv\\lib\\site-packages (from tavily-python->-r requirements.txt (line 5)) (0.28.1)\n",
      "Requirement already satisfied: langgraph-checkpoint<3.0.0,>=2.0.10 in d:\\project\\.venv\\lib\\site-packages (from langgraph->-r requirements.txt (line 6)) (2.0.10)\n",
      "Requirement already satisfied: langgraph-sdk<0.2.0,>=0.1.42 in d:\\project\\.venv\\lib\\site-packages (from langgraph->-r requirements.txt (line 6)) (0.1.51)\n",
      "Requirement already satisfied: aiohappyeyeballs>=2.3.0 in d:\\project\\.venv\\lib\\site-packages (from aiohttp<4.0.0,>=3.8.3->langchain_community->-r requirements.txt (line 3)) (2.4.4)\n",
      "Requirement already satisfied: aiosignal>=1.1.2 in d:\\project\\.venv\\lib\\site-packages (from aiohttp<4.0.0,>=3.8.3->langchain_community->-r requirements.txt (line 3)) (1.3.2)\n",
      "Requirement already satisfied: attrs>=17.3.0 in d:\\project\\.venv\\lib\\site-packages (from aiohttp<4.0.0,>=3.8.3->langchain_community->-r requirements.txt (line 3)) (25.1.0)\n",
      "Requirement already satisfied: frozenlist>=1.1.1 in d:\\project\\.venv\\lib\\site-packages (from aiohttp<4.0.0,>=3.8.3->langchain_community->-r requirements.txt (line 3)) (1.5.0)\n",
      "Requirement already satisfied: multidict<7.0,>=4.5 in d:\\project\\.venv\\lib\\site-packages (from aiohttp<4.0.0,>=3.8.3->langchain_community->-r requirements.txt (line 3)) (6.1.0)\n",
      "Requirement already satisfied: propcache>=0.2.0 in d:\\project\\.venv\\lib\\site-packages (from aiohttp<4.0.0,>=3.8.3->langchain_community->-r requirements.txt (line 3)) (0.2.1)\n",
      "Requirement already satisfied: yarl<2.0,>=1.17.0 in d:\\project\\.venv\\lib\\site-packages (from aiohttp<4.0.0,>=3.8.3->langchain_community->-r requirements.txt (line 3)) (1.18.3)\n",
      "Requirement already satisfied: jinja2 in d:\\project\\.venv\\lib\\site-packages (from altair<6,>=4.0->streamlit->-r requirements.txt (line 1)) (3.1.5)\n",
      "Requirement already satisfied: jsonschema>=3.0 in d:\\project\\.venv\\lib\\site-packages (from altair<6,>=4.0->streamlit->-r requirements.txt (line 1)) (4.23.0)\n",
      "Requirement already satisfied: narwhals>=1.14.2 in d:\\project\\.venv\\lib\\site-packages (from altair<6,>=4.0->streamlit->-r requirements.txt (line 1)) (1.25.1)\n",
      "Requirement already satisfied: colorama in d:\\project\\.venv\\lib\\site-packages (from click<9,>=7.0->streamlit->-r requirements.txt (line 1)) (0.4.6)\n",
      "Requirement already satisfied: marshmallow<4.0.0,>=3.18.0 in d:\\project\\.venv\\lib\\site-packages (from dataclasses-json<0.7,>=0.5.7->langchain_community->-r requirements.txt (line 3)) (3.26.1)\n",
      "Requirement already satisfied: typing-inspect<1,>=0.4.0 in d:\\project\\.venv\\lib\\site-packages (from dataclasses-json<0.7,>=0.5.7->langchain_community->-r requirements.txt (line 3)) (0.9.0)\n",
      "Requirement already satisfied: gitdb<5,>=4.0.1 in d:\\project\\.venv\\lib\\site-packages (from gitpython!=3.1.19,<4,>=3.0.7->streamlit->-r requirements.txt (line 1)) (4.0.12)\n",
      "Requirement already satisfied: jsonpointer>=1.9 in d:\\project\\.venv\\lib\\site-packages (from jsonpatch<2.0,>=1.33->langchain_core->-r requirements.txt (line 2)) (3.0.0)\n",
      "Requirement already satisfied: langchain-text-splitters<0.4.0,>=0.3.3 in d:\\project\\.venv\\lib\\site-packages (from langchain<0.4.0,>=0.3.16->langchain_community->-r requirements.txt (line 3)) (0.3.5)\n",
      "Requirement already satisfied: msgpack<2.0.0,>=1.1.0 in d:\\project\\.venv\\lib\\site-packages (from langgraph-checkpoint<3.0.0,>=2.0.10->langgraph->-r requirements.txt (line 6)) (1.1.0)\n",
      "Requirement already satisfied: orjson>=3.10.1 in d:\\project\\.venv\\lib\\site-packages (from langgraph-sdk<0.2.0,>=0.1.42->langgraph->-r requirements.txt (line 6)) (3.10.15)\n",
      "Requirement already satisfied: anyio in d:\\project\\.venv\\lib\\site-packages (from httpx->tavily-python->-r requirements.txt (line 5)) (4.8.0)\n",
      "Requirement already satisfied: certifi in d:\\project\\.venv\\lib\\site-packages (from httpx->tavily-python->-r requirements.txt (line 5)) (2025.1.31)\n",
      "Requirement already satisfied: httpcore==1.* in d:\\project\\.venv\\lib\\site-packages (from httpx->tavily-python->-r requirements.txt (line 5)) (1.0.7)\n",
      "Requirement already satisfied: idna in d:\\project\\.venv\\lib\\site-packages (from httpx->tavily-python->-r requirements.txt (line 5)) (3.10)\n",
      "Requirement already satisfied: h11<0.15,>=0.13 in d:\\project\\.venv\\lib\\site-packages (from httpcore==1.*->httpx->tavily-python->-r requirements.txt (line 5)) (0.14.0)\n",
      "Requirement already satisfied: requests-toolbelt<2.0.0,>=1.0.0 in d:\\project\\.venv\\lib\\site-packages (from langsmith<0.4,>=0.1.125->langchain_core->-r requirements.txt (line 2)) (1.0.0)\n",
      "Requirement already satisfied: zstandard<0.24.0,>=0.23.0 in d:\\project\\.venv\\lib\\site-packages (from langsmith<0.4,>=0.1.125->langchain_core->-r requirements.txt (line 2)) (0.23.0)\n",
      "Requirement already satisfied: python-dateutil>=2.8.2 in d:\\project\\.venv\\lib\\site-packages (from pandas<3,>=1.4.0->streamlit->-r requirements.txt (line 1)) (2.9.0.post0)\n",
      "Requirement already satisfied: pytz>=2020.1 in d:\\project\\.venv\\lib\\site-packages (from pandas<3,>=1.4.0->streamlit->-r requirements.txt (line 1)) (2025.1)\n",
      "Requirement already satisfied: tzdata>=2022.7 in d:\\project\\.venv\\lib\\site-packages (from pandas<3,>=1.4.0->streamlit->-r requirements.txt (line 1)) (2025.1)\n",
      "Requirement already satisfied: annotated-types>=0.6.0 in d:\\project\\.venv\\lib\\site-packages (from pydantic<3.0.0,>=2.7.4->langchain_core->-r requirements.txt (line 2)) (0.7.0)\n",
      "Requirement already satisfied: pydantic-core==2.27.2 in d:\\project\\.venv\\lib\\site-packages (from pydantic<3.0.0,>=2.7.4->langchain_core->-r requirements.txt (line 2)) (2.27.2)\n",
      "Requirement already satisfied: python-dotenv>=0.21.0 in d:\\project\\.venv\\lib\\site-packages (from pydantic-settings<3.0.0,>=2.4.0->langchain_community->-r requirements.txt (line 3)) (1.0.1)\n",
      "Requirement already satisfied: charset-normalizer<4,>=2 in d:\\project\\.venv\\lib\\site-packages (from requests<3,>=2.27->streamlit->-r requirements.txt (line 1)) (3.4.1)\n",
      "Requirement already satisfied: urllib3<3,>=1.21.1 in d:\\project\\.venv\\lib\\site-packages (from requests<3,>=2.27->streamlit->-r requirements.txt (line 1)) (2.3.0)\n",
      "Requirement already satisfied: markdown-it-py>=2.2.0 in d:\\project\\.venv\\lib\\site-packages (from rich<14,>=10.14.0->streamlit->-r requirements.txt (line 1)) (3.0.0)\n",
      "Requirement already satisfied: pygments<3.0.0,>=2.13.0 in d:\\project\\.venv\\lib\\site-packages (from rich<14,>=10.14.0->streamlit->-r requirements.txt (line 1)) (2.19.1)\n",
      "Requirement already satisfied: greenlet!=0.4.17 in d:\\project\\.venv\\lib\\site-packages (from SQLAlchemy<3,>=1.4->langchain_community->-r requirements.txt (line 3)) (3.1.1)\n",
      "Requirement already satisfied: regex>=2022.1.18 in d:\\project\\.venv\\lib\\site-packages (from tiktoken>=0.5.1->tavily-python->-r requirements.txt (line 5)) (2024.11.6)\n",
      "Requirement already satisfied: smmap<6,>=3.0.1 in d:\\project\\.venv\\lib\\site-packages (from gitdb<5,>=4.0.1->gitpython!=3.1.19,<4,>=3.0.7->streamlit->-r requirements.txt (line 1)) (5.0.2)\n",
      "Requirement already satisfied: MarkupSafe>=2.0 in d:\\project\\.venv\\lib\\site-packages (from jinja2->altair<6,>=4.0->streamlit->-r requirements.txt (line 1)) (3.0.2)\n",
      "Requirement already satisfied: jsonschema-specifications>=2023.03.6 in d:\\project\\.venv\\lib\\site-packages (from jsonschema>=3.0->altair<6,>=4.0->streamlit->-r requirements.txt (line 1)) (2024.10.1)\n",
      "Requirement already satisfied: referencing>=0.28.4 in d:\\project\\.venv\\lib\\site-packages (from jsonschema>=3.0->altair<6,>=4.0->streamlit->-r requirements.txt (line 1)) (0.36.2)\n",
      "Requirement already satisfied: rpds-py>=0.7.1 in d:\\project\\.venv\\lib\\site-packages (from jsonschema>=3.0->altair<6,>=4.0->streamlit->-r requirements.txt (line 1)) (0.22.3)\n",
      "Requirement already satisfied: mdurl~=0.1 in d:\\project\\.venv\\lib\\site-packages (from markdown-it-py>=2.2.0->rich<14,>=10.14.0->streamlit->-r requirements.txt (line 1)) (0.1.2)\n",
      "Requirement already satisfied: six>=1.5 in d:\\project\\.venv\\lib\\site-packages (from python-dateutil>=2.8.2->pandas<3,>=1.4.0->streamlit->-r requirements.txt (line 1)) (1.17.0)\n",
      "Requirement already satisfied: mypy-extensions>=0.3.0 in d:\\project\\.venv\\lib\\site-packages (from typing-inspect<1,>=0.4.0->dataclasses-json<0.7,>=0.5.7->langchain_community->-r requirements.txt (line 3)) (1.0.0)\n",
      "Requirement already satisfied: sniffio>=1.1 in d:\\project\\.venv\\lib\\site-packages (from anyio->httpx->tavily-python->-r requirements.txt (line 5)) (1.3.1)\n",
      "Note: you may need to restart the kernel to use updated packages.\n"
     ]
    }
   ],
   "source": [
    "pip install -r requirements.txt"
   ]
  },
  {
   "cell_type": "code",
   "execution_count": 2,
   "metadata": {},
   "outputs": [
    {
     "name": "stdout",
     "output_type": "stream",
     "text": [
      "Requirement already satisfied: pip-system-certs in d:\\project\\.venv\\lib\\site-packages (4.0)\n",
      "Requirement already satisfied: wrapt>=1.10.4 in d:\\project\\.venv\\lib\\site-packages (from pip-system-certs) (1.17.2)\n",
      "Note: you may need to restart the kernel to use updated packages.\n"
     ]
    }
   ],
   "source": [
    "pip install pip-system-certs"
   ]
  },
  {
   "cell_type": "code",
   "execution_count": 3,
   "metadata": {},
   "outputs": [
    {
     "name": "stdout",
     "output_type": "stream",
     "text": [
      "Requirement already satisfied: python-certifi-win32 in d:\\project\\.venv\\lib\\site-packages (1.6.1)Note: you may need to restart the kernel to use updated packages.\n",
      "\n",
      "Requirement already satisfied: wrapt>=1.10.4 in d:\\project\\.venv\\lib\\site-packages (from python-certifi-win32) (1.17.2)\n",
      "Requirement already satisfied: certifi in d:\\project\\.venv\\lib\\site-packages (from python-certifi-win32) (2025.1.31)\n",
      "Requirement already satisfied: setuptools-scm in d:\\project\\.venv\\lib\\site-packages (from python-certifi-win32) (8.1.0)\n",
      "Requirement already satisfied: packaging>=20 in d:\\project\\.venv\\lib\\site-packages (from setuptools-scm->python-certifi-win32) (24.2)\n",
      "Requirement already satisfied: setuptools in d:\\project\\.venv\\lib\\site-packages (from setuptools-scm->python-certifi-win32) (75.8.0)\n"
     ]
    }
   ],
   "source": [
    "pip install python-certifi-win32"
   ]
  },
  {
   "cell_type": "code",
   "execution_count": 6,
   "metadata": {},
   "outputs": [
    {
     "name": "stdout",
     "output_type": "stream",
     "text": [
      "Collecting Wikipedia-API\n",
      "  Downloading wikipedia_api-0.8.1.tar.gz (19 kB)\n",
      "  Installing build dependencies: started\n",
      "  Installing build dependencies: finished with status 'done'\n",
      "  Getting requirements to build wheel: started\n",
      "  Getting requirements to build wheel: finished with status 'done'\n",
      "  Preparing metadata (pyproject.toml): started\n",
      "  Preparing metadata (pyproject.toml): finished with status 'done'\n",
      "Requirement already satisfied: requests in d:\\project\\.venv\\lib\\site-packages (from Wikipedia-API) (2.32.3)\n",
      "Requirement already satisfied: charset-normalizer<4,>=2 in d:\\project\\.venv\\lib\\site-packages (from requests->Wikipedia-API) (3.4.1)\n",
      "Requirement already satisfied: idna<4,>=2.5 in d:\\project\\.venv\\lib\\site-packages (from requests->Wikipedia-API) (3.10)\n",
      "Requirement already satisfied: urllib3<3,>=1.21.1 in d:\\project\\.venv\\lib\\site-packages (from requests->Wikipedia-API) (2.3.0)\n",
      "Requirement already satisfied: certifi>=2017.4.17 in d:\\project\\.venv\\lib\\site-packages (from requests->Wikipedia-API) (2025.1.31)\n",
      "Building wheels for collected packages: Wikipedia-API\n",
      "  Building wheel for Wikipedia-API (pyproject.toml): started\n",
      "  Building wheel for Wikipedia-API (pyproject.toml): finished with status 'done'\n",
      "  Created wheel for Wikipedia-API: filename=Wikipedia_API-0.8.1-py3-none-any.whl size=15505 sha256=2bea3ac938dcd3ba7f867018048694a9b8d5ce7f8e99b81db3492418912a2014\n",
      "  Stored in directory: c:\\users\\aayushi.pal\\appdata\\local\\pip\\cache\\wheels\\e2\\47\\f0\\0afcbc01ff2bb0f35c593aae7ddebbeef350e46dfddeca47d8\n",
      "Successfully built Wikipedia-API\n",
      "Installing collected packages: Wikipedia-API\n",
      "Successfully installed Wikipedia-API-0.8.1\n",
      "Note: you may need to restart the kernel to use updated packages.\n"
     ]
    }
   ],
   "source": [
    "pip install Wikipedia-API"
   ]
  },
  {
   "cell_type": "code",
   "execution_count": 7,
   "metadata": {},
   "outputs": [
    {
     "name": "stdout",
     "output_type": "stream",
     "text": [
      "Note: you may need to restart the kernel to use updated packages.\n"
     ]
    }
   ],
   "source": [
    "%pip install --upgrade --quiet  wikipedia"
   ]
  },
  {
   "cell_type": "code",
   "execution_count": 5,
   "metadata": {},
   "outputs": [
    {
     "data": {
      "text/plain": [
       "True"
      ]
     },
     "execution_count": 5,
     "metadata": {},
     "output_type": "execute_result"
    }
   ],
   "source": [
    "import os\n",
    "from dotenv import load_dotenv\n",
    "load_dotenv()"
   ]
  },
  {
   "cell_type": "code",
   "execution_count": 6,
   "metadata": {},
   "outputs": [],
   "source": [
    "TAVILY_API_KEY=os.getenv(\"TAVILY_API_KEY\")\n",
    "os.environ[\"TAVILY_API_KEY\"]=TAVILY_API_KEY"
   ]
  },
  {
   "cell_type": "code",
   "execution_count": 7,
   "metadata": {},
   "outputs": [],
   "source": [
    "from langchain_community.tools.tavily_search import TavilySearchResults\n"
   ]
  },
  {
   "cell_type": "code",
   "execution_count": 8,
   "metadata": {},
   "outputs": [],
   "source": [
    "search = TavilySearchResults()\n"
   ]
  },
  {
   "cell_type": "code",
   "execution_count": 9,
   "metadata": {},
   "outputs": [
    {
     "data": {
      "text/plain": [
       "'SSLError(MaxRetryError(\"HTTPSConnectionPool(host=\\'api.tavily.com\\', port=443): Max retries exceeded with url: /search (Caused by SSLError(SSLCertVerificationError(1, \\'[SSL: CERTIFICATE_VERIFY_FAILED] certificate verify failed: Basic Constraints of CA cert not marked critical (_ssl.c:1018)\\')))\"))'"
      ]
     },
     "execution_count": 9,
     "metadata": {},
     "output_type": "execute_result"
    }
   ],
   "source": [
    "search.invoke(\"what is the weather in SF\")\n"
   ]
  }
 ],
 "metadata": {
  "kernelspec": {
   "display_name": ".venv",
   "language": "python",
   "name": "python3"
  },
  "language_info": {
   "codemirror_mode": {
    "name": "ipython",
    "version": 3
   },
   "file_extension": ".py",
   "mimetype": "text/x-python",
   "name": "python",
   "nbconvert_exporter": "python",
   "pygments_lexer": "ipython3",
   "version": "3.13.1"
  }
 },
 "nbformat": 4,
 "nbformat_minor": 2
}
